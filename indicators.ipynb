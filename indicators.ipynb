{
 "cells": [
  {
   "cell_type": "markdown",
   "id": "0b3c856c-ccf2-4a55-8beb-288c546a7ce2",
   "metadata": {},
   "source": [
    "# **Indicators**"
   ]
  },
  {
   "cell_type": "code",
   "execution_count": 1,
   "id": "44f09954-cdcb-40ee-9b3a-43d4c5b5a4f5",
   "metadata": {},
   "outputs": [],
   "source": [
    "import numpy as np\n",
    "import pandas as pd\n",
    "\n",
    "import matplotlib.pyplot as plt\n",
    "import seaborn as sns\n",
    "\n",
    "from datetime import datetime\n",
    "\n",
    "import FinanceDataReader as fdr\n",
    "import yfinance as yf"
   ]
  },
  {
   "cell_type": "markdown",
   "id": "580008e1-d223-4740-a060-cdf50a041ead",
   "metadata": {},
   "source": [
    "## **Market Momentum**"
   ]
  },
  {
   "cell_type": "code",
   "execution_count": 2,
   "id": "7c66d155-bb1e-46f0-9e2c-28fe619e2f4d",
   "metadata": {},
   "outputs": [],
   "source": [
    "start = '2000-01-01'\n",
    "end = '2024-03-31'"
   ]
  },
  {
   "cell_type": "code",
   "execution_count": 3,
   "id": "dd0dbccc-a969-46c2-81e2-2082371119c8",
   "metadata": {},
   "outputs": [],
   "source": [
    "# Import KOSPI data.\n",
    "\n",
    "kospi = yf.Ticker('005930.KS')\n",
    "kospi = kospi.history(interval='1d',\n",
    "              start=start,\n",
    "              end=end,\n",
    "              actions=True,\n",
    "              auto_adjust=True)"
   ]
  },
  {
   "cell_type": "code",
   "execution_count": 41,
   "id": "4820d48b-088a-4689-8657-97a59a6d1620",
   "metadata": {},
   "outputs": [],
   "source": [
    "# Market momentum : KOSPI and its 125-day moving average\n",
    "\n",
    "def moving_average(prices, days=125):\n",
    "    \"\"\"\n",
    "    Calculate moving average.\n",
    "    \"\"\"\n",
    "    return prices.rolling(window=days).mean()\n",
    "\n",
    "\n",
    "def market_momentum(prices):\n",
    "    \"\"\"\n",
    "    Calculate market momentum\n",
    "    \"\"\"\n",
    "    return prices - moving_average(prices)"
   ]
  },
  {
   "cell_type": "code",
   "execution_count": null,
   "id": "b8deff00-7951-4a52-ac26-ba274dbb72fd",
   "metadata": {},
   "outputs": [
    {
     "name": "stdout",
     "output_type": "stream",
     "text": [
      "4.9857215021744485\n",
      "9.658641768636127\n",
      "2.620671980447079\n",
      "8.354693452531114\n",
      "1.5923922751839115\n",
      "4.365413132007742\n"
     ]
    }
   ],
   "source": [
    "# TODO : Amplifying magnitude problem.\n",
    "\n",
    "period1 = mm.loc['2000-03-02':'2004-03-01'].reset_index()\n",
    "period2 = mm.loc['2004-03-02':'2008-03-01'].reset_index()\n",
    "period3 = mm.loc['2008-03-02':'2012-03-01'].reset_index()\n",
    "period4 = mm.loc['2012-03-02':'2016-03-01'].reset_index()\n",
    "period5 = mm.loc['2016-03-02':'2020-03-01'].reset_index()\n",
    "period6 = mm.loc['2020-03-02':'2024-03-01'].reset_index()\n",
    "\n",
    "def coeffVar(data):\n",
    "    \n",
    "    return data.std() / data.mean()\n",
    "\n",
    "print(coeffVar(period1.market_momentum))\n",
    "print(coeffVar(period2.market_momentum))\n",
    "print(coeffVar(period3.market_momentum))\n",
    "print(coeffVar(period4.market_momentum))\n",
    "print(coeffVar(period5.market_momentum))\n",
    "print(coeffVar(period6.market_momentum))"
   ]
  },
  {
   "cell_type": "markdown",
   "id": "7277a657-4f93-4c9f-bf5f-2e522e7e146f",
   "metadata": {},
   "source": [
    "## **Stock Price Strength**"
   ]
  },
  {
   "cell_type": "markdown",
   "id": "b34d8d9a-cb92-4eda-a20a-f09d08a865c0",
   "metadata": {},
   "source": [
    "## **Stock Price Breadth**"
   ]
  },
  {
   "cell_type": "markdown",
   "id": "27139189-e556-41dc-b95b-f7f3777f7f5a",
   "metadata": {},
   "source": [
    "## **Put and Call Options**"
   ]
  },
  {
   "cell_type": "markdown",
   "id": "1dc235c5-dd04-4866-a4ec-e9b678d196fa",
   "metadata": {},
   "source": [
    "## **Market Volatility**"
   ]
  },
  {
   "cell_type": "markdown",
   "id": "bf0048b5-9d37-46e8-a9c1-0397efb504fb",
   "metadata": {},
   "source": [
    "## **Safe Haven Demand**"
   ]
  },
  {
   "cell_type": "markdown",
   "id": "60ca5a4e-4d40-4ab7-be4d-78783157bb52",
   "metadata": {},
   "source": [
    "## **Junk Bond Demand**"
   ]
  },
  {
   "cell_type": "code",
   "execution_count": null,
   "id": "0ac800cf-86e9-4daf-9ecb-75dd714b06f6",
   "metadata": {},
   "outputs": [],
   "source": []
  }
 ],
 "metadata": {
  "kernelspec": {
   "display_name": "Python 3 (ipykernel)",
   "language": "python",
   "name": "python3"
  },
  "language_info": {
   "codemirror_mode": {
    "name": "ipython",
    "version": 3
   },
   "file_extension": ".py",
   "mimetype": "text/x-python",
   "name": "python",
   "nbconvert_exporter": "python",
   "pygments_lexer": "ipython3",
   "version": "3.8.12"
  }
 },
 "nbformat": 4,
 "nbformat_minor": 5
}
