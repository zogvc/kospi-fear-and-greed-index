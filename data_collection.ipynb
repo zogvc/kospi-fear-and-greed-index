{
 "cells": [
  {
   "cell_type": "markdown",
   "id": "0d11ca3e-82b1-42f4-8ff7-8ee37c1a26d9",
   "metadata": {},
   "source": [
    "# **Collecting and Loading Data**"
   ]
  },
  {
   "cell_type": "markdown",
   "id": "5dad740b-ef9c-4b61-ae9d-bc4f79d1a2d1",
   "metadata": {},
   "source": [
    "Collect KOSPI data at the individual stock level."
   ]
  },
  {
   "cell_type": "code",
   "execution_count": 1,
   "id": "ab795ec0-b41e-46d9-a018-33e8ce95553a",
   "metadata": {},
   "outputs": [],
   "source": [
    "# [Description] Import necessary packages.\n",
    "\n",
    "import numpy as np\n",
    "import pandas as pd\n",
    "\n",
    "import os\n",
    "from datetime import datetime\n",
    "from datetime import timedelta\n",
    "\n",
    "from pykrx import stock\n",
    "from pykrx import bond\n",
    "\n",
    "import collect"
   ]
  },
  {
   "cell_type": "code",
   "execution_count": 51,
   "id": "bc44a1d5-e4ae-4037-966b-f88c96cac5e4",
   "metadata": {},
   "outputs": [],
   "source": [
    "# [Description] Get the last date of data available.\n",
    "\n"
   ]
  },
  {
   "cell_type": "code",
   "execution_count": 8,
   "id": "5c98e067-40fb-4433-9c43-9c9b1d729ca7",
   "metadata": {},
   "outputs": [],
   "source": [
    "# [Description] Collection functions\n",
    "\n",
    "def collect_stock_indiv(start, end, market='KOSPI'):\n",
    "    '''\n",
    "    Collect individual stock data.\n",
    "    \n",
    "    Parameters\n",
    "    ----------\n",
    "    - start\n",
    "    - end\n",
    "    - market\n",
    "    \n",
    "    Outputs\n",
    "    ----------\n",
    "    - o\n",
    "    - h\n",
    "    - l\n",
    "    - c\n",
    "    - v\n",
    "    '''\n",
    "    \n",
    "    o = pd.DataFrame() # Empty DataFrame to save open price data\n",
    "    h = pd.DataFrame() # Empty DataFrame to save high price data\n",
    "    l = pd.DataFrame() # Empty DataFrame to save low price data\n",
    "    c = pd.DataFrame() # Empty DataFrame to save close price data\n",
    "    v = pd.DataFrame() # Empty DataFrame to save volume data\n",
    "    \n",
    "    for t in pd.date_range(start, end).astype('str'):\n",
    "        \n",
    "        try:\n",
    "            daily = stock.get_market_ohlcv(t, market=market)\n",
    "            daily.columns = ['open', 'high', 'low', 'close', 'volume', 'won_volume', 'pct_change']\n",
    "        \n",
    "        except KeyError:\n",
    "            daily = pd.DataFrame(columns=['open', 'high', 'low', 'close', 'volume', 'won_volume', 'pct_change'])\n",
    "    \n",
    "        daily_o = daily.loc[:, ['open']].T.rename(index={'open':t})\n",
    "        daily_h = daily.loc[:, ['high']].T.rename(index={'high':t})\n",
    "        daily_l = daily.loc[:, ['low']].T.rename(index={'low':t})\n",
    "        daily_c = daily.loc[:, ['close']].T.rename(index={'close':t})\n",
    "        daily_v = daily.loc[:, ['volume']].T.rename(index={'volume':t})\n",
    "        \n",
    "        o = pd.concat([o, daily_o], axis=0)\n",
    "        h = pd.concat([h, daily_h], axis=0)\n",
    "        l = pd.concat([l, daily_l], axis=0)\n",
    "        c = pd.concat([c, daily_c], axis=0)\n",
    "        v = pd.concat([v, daily_v], axis=0)\n",
    "    \n",
    "    return (o, h, l, c, v)\n",
    "\n",
    "\n",
    "def collect_index(start, end, idx='1028'):\n",
    "    '''\n",
    "    [Description]\n",
    "    - Collect index data.\n",
    "    \n",
    "    [Inputs]\n",
    "    '''\n",
    "    df = stock.get_index_ohlcv(start, end, idx)\n",
    "    df.columns = ['open', 'high', 'low', 'close', 'volume', 'won_volume', 'market_cap']\n",
    "    \n",
    "    o = df.loc[:, ['open']]\n",
    "    h = df.loc[:, ['high']]\n",
    "    l = df.loc[:, ['low']]\n",
    "    c = df.loc[:, ['close']]\n",
    "    v = df.loc[:, ['volume']]\n",
    "    \n",
    "    return o, h, l, c, v\n",
    "    \n",
    "\n",
    "def collect_volatility(start, end):\n",
    "    pass\n",
    "\n",
    "\n",
    "def collect_derivatives(start, end):\n",
    "    pass\n",
    "\n",
    "\n",
    "def collect_bondrate(start, end):\n",
    "    pass"
   ]
  },
  {
   "cell_type": "code",
   "execution_count": null,
   "id": "74723a84-baa7-4478-adc8-d2eb57a57a2b",
   "metadata": {},
   "outputs": [],
   "source": []
  },
  {
   "cell_type": "code",
   "execution_count": 15,
   "id": "4f0244be-fa7e-4c67-9e22-353f21de4bf1",
   "metadata": {},
   "outputs": [
    {
     "name": "stdout",
     "output_type": "stream",
     "text": [
      "Successfully saved the daily KOSPI data of year 1995\n",
      "Successfully saved the daily KOSPI data of year 1996\n",
      "Successfully saved the daily KOSPI data of year 1997\n",
      "Successfully saved the daily KOSPI data of year 1998\n",
      "Successfully saved the daily KOSPI data of year 1999\n",
      "Successfully saved the daily KOSPI data of year 2000\n",
      "Successfully saved the daily KOSPI data of year 2001\n",
      "Successfully saved the daily KOSPI data of year 2002\n",
      "Successfully saved the daily KOSPI data of year 2003\n",
      "Successfully saved the daily KOSPI data of year 2004\n",
      "Successfully saved the daily KOSPI data of year 2005\n",
      "Successfully saved the daily KOSPI data of year 2006\n",
      "Successfully saved the daily KOSPI data of year 2007\n",
      "Successfully saved the daily KOSPI data of year 2008\n",
      "Successfully saved the daily KOSPI data of year 2009\n",
      "Successfully saved the daily KOSPI data of year 2010\n",
      "Successfully saved the daily KOSPI data of year 2011\n",
      "Successfully saved the daily KOSPI data of year 2012\n",
      "Successfully saved the daily KOSPI data of year 2013\n",
      "Successfully saved the daily KOSPI data of year 2014\n",
      "Successfully saved the daily KOSPI data of year 2015\n",
      "Successfully saved the daily KOSPI data of year 2016\n",
      "Successfully saved the daily KOSPI data of year 2017\n",
      "Successfully saved the daily KOSPI data of year 2018\n",
      "Successfully saved the daily KOSPI data of year 2019\n",
      "Successfully saved the daily KOSPI data of year 2020\n",
      "Successfully saved the daily KOSPI data of year 2021\n",
      "Successfully saved the daily KOSPI data of year 2022\n",
      "Successfully saved the daily KOSPI data of year 2023\n"
     ]
    }
   ],
   "source": [
    "# [Description] Data Collection : 한국거래소 전체종목 데이터가 있는 1995년 1월 1일부터 현재까지의 데이터를 수집한다.\n",
    "\n",
    "## 시계열 시작 시점부터 오늘 날짜까지의 시계열 인덱스를 생성한다.\n",
    "year_list = list(range(1995, 2024))\n",
    "\n",
    "for yr in year_list:\n",
    "    \n",
    "    start = f'{yr}-01-01'\n",
    "    end = f'{yr}-12-31'\n",
    "    \n",
    "    o, h, l, c, v = collect_stock_indiv(start, end)\n",
    " \n",
    "    ## 수집한 전종목 데이터를 로컬에 저장한다.\n",
    "    o.to_csv(f'./data/kospi-individual/kospi_open_{yr}.csv')\n",
    "    h.to_csv(f'./data/kospi-individual/kospi_high_{yr}.csv')\n",
    "    l.to_csv(f'./data/kospi-individual/kospi_low_{yr}.csv')\n",
    "    c.to_csv(f'./data/kospi-individual/kospi_close_{yr}.csv')\n",
    "    v.to_csv(f'./data/kospi-individual/kospi_volume_{yr}.csv')\n",
    "    \n",
    "    print(f'Successfully saved the daily KOSPI data of year {yr}')"
   ]
  },
  {
   "cell_type": "code",
   "execution_count": 52,
   "id": "8385665c-607b-4743-927e-0bddeeeb46b4",
   "metadata": {},
   "outputs": [
    {
     "name": "stdout",
     "output_type": "stream",
     "text": [
      "Successfully updated the daily KOSPI data.\n"
     ]
    }
   ],
   "source": [
    "# [Description] Data Update if start_year == end_year\n",
    "\n",
    "start, end = get_date()\n",
    "yr = end[:4]\n",
    "\n",
    "o, h, l, c, v = collect_indiv(start, end)\n",
    "\n",
    "## 수집한 전종목 데이터를 로컬에 저장한다.\n",
    "o.to_csv(f'./data/kospi-individual/kospi_open_{yr}.csv')\n",
    "h.to_csv(f'./data/kospi-individual/kospi_high_{yr}.csv')\n",
    "l.to_csv(f'./data/kospi-individual/kospi_low_{yr}.csv')\n",
    "c.to_csv(f'./data/kospi-individual/kospi_close_{yr}.csv')\n",
    "v.to_csv(f'./data/kospi-individual/kospi_volume_{yr}.csv')\n",
    "    \n",
    "print(f'Successfully updated the daily KOSPI data.')"
   ]
  },
  {
   "cell_type": "code",
   "execution_count": null,
   "id": "5259ca11-9c00-4520-80a3-e6d5a73c63f8",
   "metadata": {},
   "outputs": [],
   "source": []
  }
 ],
 "metadata": {
  "kernelspec": {
   "display_name": "Python 3 (ipykernel)",
   "language": "python",
   "name": "python3"
  },
  "language_info": {
   "codemirror_mode": {
    "name": "ipython",
    "version": 3
   },
   "file_extension": ".py",
   "mimetype": "text/x-python",
   "name": "python",
   "nbconvert_exporter": "python",
   "pygments_lexer": "ipython3",
   "version": "3.11.7"
  }
 },
 "nbformat": 4,
 "nbformat_minor": 5
}
